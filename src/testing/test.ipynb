{
 "cells": [
  {
   "cell_type": "code",
   "execution_count": 85,
   "metadata": {},
   "outputs": [],
   "source": [
    "import json\n",
    "import os"
   ]
  },
  {
   "cell_type": "code",
   "execution_count": 86,
   "metadata": {},
   "outputs": [],
   "source": [
    "jsonPath = r'H:\\Adam\\School\\Coding\\Chroma.AI\\output\\obj.json'\n",
    "with open(jsonPath, 'r') as j:\n",
    "    data = json.load(j)"
   ]
  },
  {
   "cell_type": "code",
   "execution_count": 87,
   "metadata": {},
   "outputs": [],
   "source": [
    "objPaths = {}\n",
    "objList = []"
   ]
  },
  {
   "cell_type": "code",
   "execution_count": 96,
   "metadata": {},
   "outputs": [
    {
     "name": "stdout",
     "output_type": "stream",
     "text": [
      "14 | car\n",
      "{'1 | car': 'output\\\\output-extracted\\\\output-1.jpg', '2 | car': 'output\\\\output-extracted\\\\output-10.jpg', '3 | car': 'output\\\\output-extracted\\\\output-11.jpg', '4 | car': 'output\\\\output-extracted\\\\output-12.jpg', '5 | car': 'output\\\\output-extracted\\\\output-13.jpg', '6 | car': 'output\\\\output-extracted\\\\output-14.jpg', '7 | motorcycle': 'output\\\\output-extracted\\\\output-2.jpg', '8 | car': 'output\\\\output-extracted\\\\output-3.jpg', '9 | car': 'output\\\\output-extracted\\\\output-4.jpg', '10 | potted plant': 'output\\\\output-extracted\\\\output-5.jpg', '11 | chair': 'output\\\\output-extracted\\\\output-6.jpg', '12 | car': 'output\\\\output-extracted\\\\output-7.jpg', '13 | car': 'output\\\\output-extracted\\\\output-8.jpg', '14 | car': 'output\\\\output-extracted\\\\output-9.jpg'}\n",
      "['1 | car', '2 | car', '3 | car', '4 | car', '5 | car', '6 | car', '7 | motorcycle', '8 | car', '9 | car', '10 | potted plant', '11 | chair', '12 | car', '13 | car', '14 | car']\n"
     ]
    }
   ],
   "source": [
    "jsonPath = r'H:\\Adam\\School\\Coding\\Chroma.AI\\output\\obj.json'\n",
    "with open(jsonPath, 'r') as j:\n",
    "    data = json.load(j)\n",
    "\n",
    "objPaths = {}\n",
    "objList = []\n",
    "for key, value in data.items():\n",
    "    objId = key\n",
    "    objData = value\n",
    "    objName = objData[0]\n",
    "    objPercentage = objData[1]\n",
    "    objPath = objData[2]\n",
    "    obj = f'{objId} | {objName}'\n",
    "    objPaths[obj] = objPath\n",
    "    objList.append(obj)\n",
    "\n",
    "print(obj)\n",
    "print(objPaths)\n",
    "print(objList)"
   ]
  },
  {
   "cell_type": "code",
   "execution_count": 11,
   "metadata": {},
   "outputs": [
    {
     "ename": "TypeError",
     "evalue": "int() argument must be a string, a bytes-like object or a number, not 'builtin_function_or_method'",
     "output_type": "error",
     "traceback": [
      "\u001b[1;31m---------------------------------------------------------------------------\u001b[0m",
      "\u001b[1;31mTypeError\u001b[0m                                 Traceback (most recent call last)",
      "Cell \u001b[1;32mIn[11], line 26\u001b[0m\n\u001b[0;32m     20\u001b[0m         pb\u001b[39m.\u001b[39mstop()\n\u001b[0;32m     22\u001b[0m pb\u001b[39m.\u001b[39mgrid(column\u001b[39m=\u001b[39m\u001b[39m0\u001b[39m, row\u001b[39m=\u001b[39m\u001b[39m0\u001b[39m, columnspan\u001b[39m=\u001b[39m\u001b[39m2\u001b[39m, padx\u001b[39m=\u001b[39m\u001b[39m10\u001b[39m, pady\u001b[39m=\u001b[39m\u001b[39m20\u001b[39m)\n\u001b[0;32m     23\u001b[0m ctk\u001b[39m.\u001b[39mCTkButton(\n\u001b[0;32m     24\u001b[0m     root,\n\u001b[0;32m     25\u001b[0m     text\u001b[39m=\u001b[39m\u001b[39m'\u001b[39m\u001b[39mProgress\u001b[39m\u001b[39m'\u001b[39m,\n\u001b[1;32m---> 26\u001b[0m     command\u001b[39m=\u001b[39mprogress()\n\u001b[0;32m     27\u001b[0m )\u001b[39m.\u001b[39mgrid(\n\u001b[0;32m     28\u001b[0m     column\u001b[39m=\u001b[39m\u001b[39m1\u001b[39m, row\u001b[39m=\u001b[39m\u001b[39m2\u001b[39m, padx\u001b[39m=\u001b[39m\u001b[39m10\u001b[39m, pady\u001b[39m=\u001b[39m\u001b[39m10\u001b[39m, sticky\u001b[39m=\u001b[39mtk\u001b[39m.\u001b[39mW\n\u001b[0;32m     29\u001b[0m )\n\u001b[0;32m     31\u001b[0m root\u001b[39m.\u001b[39mmainloop()\n",
      "Cell \u001b[1;32mIn[11], line 16\u001b[0m, in \u001b[0;36mprogress\u001b[1;34m()\u001b[0m\n\u001b[0;32m     15\u001b[0m \u001b[39mdef\u001b[39;00m \u001b[39mprogress\u001b[39m():\n\u001b[1;32m---> 16\u001b[0m     \u001b[39mif\u001b[39;00m \u001b[39mint\u001b[39;49m(pb\u001b[39m.\u001b[39;49mchildren\u001b[39m.\u001b[39;49mvalues) \u001b[39m<\u001b[39m\u001b[39m=\u001b[39m \u001b[39m100\u001b[39m:\n\u001b[0;32m     17\u001b[0m         pb\u001b[39m.\u001b[39mchildren\u001b[39m.\u001b[39mvalues \u001b[39m+\u001b[39m\u001b[39m=\u001b[39m \u001b[39m20\u001b[39m\n\u001b[0;32m     18\u001b[0m     \u001b[39melse\u001b[39;00m:\n",
      "\u001b[1;31mTypeError\u001b[0m: int() argument must be a string, a bytes-like object or a number, not 'builtin_function_or_method'"
     ]
    }
   ],
   "source": [
    "import tkinter as ttk\n",
    "import customtkinter as ctk\n",
    "\n",
    "root = ctk.CTk()\n",
    "choices = ('network one', 'network two', 'network three')\n",
    "var = tk.StringVar(root)\n",
    "objValues = ['None']\n",
    "\n",
    "\n",
    "\n",
    "pb = ctk.CTkProgressBar(root, mode='determinate', width=270, height=30)\n",
    "\n",
    "\n",
    "\n",
    "def progressBar():\n",
    "    if int(pb.children.values) <= 100:\n",
    "        pb.children.values += 20\n",
    "    else:\n",
    "        print('done')\n",
    "        pb.stop()\n",
    "\n",
    "pb.grid(column=0, row=0, columnspan=2, padx=10, pady=20)\n",
    "ctk.CTkButton(\n",
    "    root,\n",
    "    text='Progress',\n",
    "    command=progressBar()\n",
    ").grid(\n",
    "    column=1, row=2, padx=10, pady=10, sticky=tk.W\n",
    ")\n",
    "\n",
    "root.mainloop()"
   ]
  },
  {
   "cell_type": "code",
   "execution_count": 98,
   "metadata": {},
   "outputs": [
    {
     "data": {
      "text/plain": [
       "0"
      ]
     },
     "execution_count": 98,
     "metadata": {},
     "output_type": "execute_result"
    }
   ],
   "source": [
    "import os\n",
    "os.system(\"start \\\"\\\" https://example.com\")"
   ]
  },
  {
   "cell_type": "code",
   "execution_count": 16,
   "metadata": {},
   "outputs": [
    {
     "ename": "KeyboardInterrupt",
     "evalue": "",
     "output_type": "error",
     "traceback": [
      "\u001b[1;31m---------------------------------------------------------------------------\u001b[0m",
      "\u001b[1;31mKeyboardInterrupt\u001b[0m                         Traceback (most recent call last)",
      "Cell \u001b[1;32mIn[16], line 59\u001b[0m\n\u001b[0;32m     51\u001b[0m stop_button \u001b[39m=\u001b[39m ttk\u001b[39m.\u001b[39mButton(\n\u001b[0;32m     52\u001b[0m     root,\n\u001b[0;32m     53\u001b[0m     text\u001b[39m=\u001b[39m\u001b[39m'\u001b[39m\u001b[39mStop\u001b[39m\u001b[39m'\u001b[39m,\n\u001b[0;32m     54\u001b[0m     command\u001b[39m=\u001b[39mstop\n\u001b[0;32m     55\u001b[0m )\n\u001b[0;32m     56\u001b[0m stop_button\u001b[39m.\u001b[39mgrid(column\u001b[39m=\u001b[39m\u001b[39m1\u001b[39m, row\u001b[39m=\u001b[39m\u001b[39m2\u001b[39m, padx\u001b[39m=\u001b[39m\u001b[39m10\u001b[39m, pady\u001b[39m=\u001b[39m\u001b[39m10\u001b[39m, sticky\u001b[39m=\u001b[39mtk\u001b[39m.\u001b[39mW)\n\u001b[1;32m---> 59\u001b[0m root\u001b[39m.\u001b[39;49mmainloop()\n",
      "File \u001b[1;32mC:\\Program Files\\WindowsApps\\PythonSoftwareFoundation.Python.3.9_3.9.3568.0_x64__qbz5n2kfra8p0\\lib\\tkinter\\__init__.py:1429\u001b[0m, in \u001b[0;36mMisc.mainloop\u001b[1;34m(self, n)\u001b[0m\n\u001b[0;32m   1427\u001b[0m \u001b[39mdef\u001b[39;00m \u001b[39mmainloop\u001b[39m(\u001b[39mself\u001b[39m, n\u001b[39m=\u001b[39m\u001b[39m0\u001b[39m):\n\u001b[0;32m   1428\u001b[0m \u001b[39m    \u001b[39m\u001b[39m\"\"\"Call the mainloop of Tk.\"\"\"\u001b[39;00m\n\u001b[1;32m-> 1429\u001b[0m     \u001b[39mself\u001b[39;49m\u001b[39m.\u001b[39;49mtk\u001b[39m.\u001b[39;49mmainloop(n)\n",
      "\u001b[1;31mKeyboardInterrupt\u001b[0m: "
     ]
    }
   ],
   "source": [
    "from tkinter import ttk\n",
    "import tkinter as tk\n",
    "from tkinter.messagebox import showinfo\n",
    "\n",
    "\n",
    "# root window\n",
    "root = tk.Tk()\n",
    "root.geometry('300x120')\n",
    "root.title('Progressbar Demo')\n",
    "\n",
    "\n",
    "def update_progress_label():\n",
    "    return f\"Current Progress: {pb['value']}%\"\n",
    "\n",
    "\n",
    "def progress():\n",
    "    if pb['value'] < 100:\n",
    "        pb['value'] += 20\n",
    "        value_label['text'] = update_progress_label()\n",
    "    else:\n",
    "        showinfo(message='The progress completed!')\n",
    "\n",
    "\n",
    "def stop():\n",
    "    pb.stop()\n",
    "    value_label['text'] = update_progress_label()\n",
    "\n",
    "\n",
    "# progressbar\n",
    "pb = ttk.Progressbar(\n",
    "    root,\n",
    "    orient='horizontal',\n",
    "    mode='determinate',\n",
    "    length=280\n",
    ")\n",
    "# place the progressbar\n",
    "pb.grid(column=0, row=0, columnspan=2, padx=10, pady=20)\n",
    "\n",
    "# label\n",
    "value_label = ttk.Label(root, text=update_progress_label())\n",
    "value_label.grid(column=0, row=1, columnspan=2)\n",
    "\n",
    "# start button\n",
    "start_button = ttk.Button(\n",
    "    root,\n",
    "    text='Progress',\n",
    "    command=progress\n",
    ")\n",
    "start_button.grid(column=0, row=2, padx=10, pady=10, sticky=tk.E)\n",
    "\n",
    "stop_button = ttk.Button(\n",
    "    root,\n",
    "    text='Stop',\n",
    "    command=stop\n",
    ")\n",
    "stop_button.grid(column=1, row=2, padx=10, pady=10, sticky=tk.W)\n",
    "\n",
    "\n",
    "root.mainloop()"
   ]
  },
  {
   "cell_type": "code",
   "execution_count": null,
   "metadata": {},
   "outputs": [],
   "source": [
    "# To be added to main (maybe)\n",
    "\n",
    "class Loading():\n",
    "        global modelsCount\n",
    "        # progressbar\n",
    "        self = tk.Tk\n",
    "        progressBar = ttk.Progressbar(self,\n",
    "            orient='horizontal',\n",
    "            mode='determinate',\n",
    "            length=270\n",
    "        )\n",
    "        \n",
    "        progressBar.grid(column=0, row=0, columnspan=2, padx=10, pady=20)\n",
    "        \n",
    "        \n",
    "        def updateBar():\n",
    "            if progressBar['value'] <= 100:\n",
    "                progressBar['value'] += 100/3\n",
    "\n",
    "        def downloadModels():\n",
    "            '''Downloads and Checks if models exist.'''\n",
    "            global modelsCount\n",
    "\n",
    "            for path in os.listdir('models/'):\n",
    "            # check if current path is a file\n",
    "                if os.path.isfile(os.path.join('models/', path)):\n",
    "                    modelsCount += 1\n",
    "                    updateBar()\n",
    "                    \n",
    "            if modelsCount == 4:\n",
    "                self.after(0, loadingToHomeOpen)\n",
    "                progressBar.stop()\n",
    "            elif modelsCount != 4:\n",
    "                for link, destination in zip(links, destinations):\n",
    "                    print('downloading')\n",
    "                    download_file(link, destination)\n",
    "                    modelsCount += 1\n",
    "                    updateBar()\n",
    "                    print('downloaded')\n",
    "                    if modelsCount == 4:\n",
    "                        progressBar.stop()\n",
    "                        self.after(0, loadingToHomeOpen)\n",
    "                    \n",
    "\n",
    "\n",
    "        thread1 = threading.Thread(target=downloadModels)\n",
    "        thread1.start()"
   ]
  },
  {
   "attachments": {},
   "cell_type": "markdown",
   "metadata": {},
   "source": [
    "children > 'menu'"
   ]
  }
 ],
 "metadata": {
  "kernelspec": {
   "display_name": "Python 3",
   "language": "python",
   "name": "python3"
  },
  "language_info": {
   "codemirror_mode": {
    "name": "ipython",
    "version": 3
   },
   "file_extension": ".py",
   "mimetype": "text/x-python",
   "name": "python",
   "nbconvert_exporter": "python",
   "pygments_lexer": "ipython3",
   "version": "3.9.13"
  },
  "orig_nbformat": 4
 },
 "nbformat": 4,
 "nbformat_minor": 2
}
