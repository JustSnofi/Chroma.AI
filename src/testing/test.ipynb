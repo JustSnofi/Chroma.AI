{
 "cells": [
  {
   "cell_type": "code",
   "execution_count": 85,
   "metadata": {},
   "outputs": [],
   "source": [
    "import json\n",
    "import os"
   ]
  },
  {
   "cell_type": "code",
   "execution_count": 86,
   "metadata": {},
   "outputs": [],
   "source": [
    "jsonPath = r'H:\\Adam\\School\\Coding\\Chroma.AI\\output\\obj.json'\n",
    "with open(jsonPath, 'r') as j:\n",
    "    data = json.load(j)"
   ]
  },
  {
   "cell_type": "code",
   "execution_count": 87,
   "metadata": {},
   "outputs": [],
   "source": [
    "objPaths = {}\n",
    "objList = []"
   ]
  },
  {
   "cell_type": "code",
   "execution_count": 96,
   "metadata": {},
   "outputs": [
    {
     "name": "stdout",
     "output_type": "stream",
     "text": [
      "14 | car\n",
      "{'1 | car': 'output\\\\output-extracted\\\\output-1.jpg', '2 | car': 'output\\\\output-extracted\\\\output-10.jpg', '3 | car': 'output\\\\output-extracted\\\\output-11.jpg', '4 | car': 'output\\\\output-extracted\\\\output-12.jpg', '5 | car': 'output\\\\output-extracted\\\\output-13.jpg', '6 | car': 'output\\\\output-extracted\\\\output-14.jpg', '7 | motorcycle': 'output\\\\output-extracted\\\\output-2.jpg', '8 | car': 'output\\\\output-extracted\\\\output-3.jpg', '9 | car': 'output\\\\output-extracted\\\\output-4.jpg', '10 | potted plant': 'output\\\\output-extracted\\\\output-5.jpg', '11 | chair': 'output\\\\output-extracted\\\\output-6.jpg', '12 | car': 'output\\\\output-extracted\\\\output-7.jpg', '13 | car': 'output\\\\output-extracted\\\\output-8.jpg', '14 | car': 'output\\\\output-extracted\\\\output-9.jpg'}\n",
      "['1 | car', '2 | car', '3 | car', '4 | car', '5 | car', '6 | car', '7 | motorcycle', '8 | car', '9 | car', '10 | potted plant', '11 | chair', '12 | car', '13 | car', '14 | car']\n"
     ]
    }
   ],
   "source": [
    "jsonPath = r'H:\\Adam\\School\\Coding\\Chroma.AI\\output\\obj.json'\n",
    "with open(jsonPath, 'r') as j:\n",
    "    data = json.load(j)\n",
    "\n",
    "objPaths = {}\n",
    "objList = []\n",
    "for key, value in data.items():\n",
    "    objId = key\n",
    "    objData = value\n",
    "    objName = objData[0]\n",
    "    objPercentage = objData[1]\n",
    "    objPath = objData[2]\n",
    "    obj = f'{objId} | {objName}'\n",
    "    objPaths[obj] = objPath\n",
    "    objList.append(obj)\n",
    "\n",
    "print(obj)\n",
    "print(objPaths)\n",
    "print(objList)"
   ]
  },
  {
   "cell_type": "code",
   "execution_count": null,
   "metadata": {},
   "outputs": [
    {
     "name": "stderr",
     "output_type": "stream",
     "text": [
      "Exception in Tkinter callback\n",
      "Traceback (most recent call last):\n",
      "  File \"C:\\Program Files\\WindowsApps\\PythonSoftwareFoundation.Python.3.9_3.9.3568.0_x64__qbz5n2kfra8p0\\lib\\tkinter\\__init__.py\", line 1892, in __call__\n",
      "    return self.func(*args)\n",
      "  File \"C:\\Users\\justs\\AppData\\Local\\Packages\\PythonSoftwareFoundation.Python.3.9_qbz5n2kfra8p0\\LocalCache\\local-packages\\Python39\\site-packages\\customtkinter\\windows\\widgets\\ctk_button.py\", line 553, in _clicked\n",
      "    self._command()\n",
      "  File \"C:\\Users\\justs\\AppData\\Local\\Temp\\ipykernel_27940\\2100205670.py\", line 11, in refresh\n",
      "    network_select['menu'].delete(0, 'end')\n",
      "AttributeError: 'NoneType' object has no attribute 'delete'\n"
     ]
    },
    {
     "ename": "KeyboardInterrupt",
     "evalue": "",
     "output_type": "error",
     "traceback": [
      "\u001b[1;31m---------------------------------------------------------------------------\u001b[0m",
      "\u001b[1;31mKeyboardInterrupt\u001b[0m                         Traceback (most recent call last)",
      "Cell \u001b[1;32mIn[84], line 37\u001b[0m\n\u001b[0;32m     34\u001b[0m \u001b[39m# I made this quick refresh button to demonstrate\u001b[39;00m\n\u001b[0;32m     35\u001b[0m ctk\u001b[39m.\u001b[39mCTkButton(root, text\u001b[39m=\u001b[39m\u001b[39m'\u001b[39m\u001b[39mRefresh\u001b[39m\u001b[39m'\u001b[39m, command\u001b[39m=\u001b[39mrefresh)\u001b[39m.\u001b[39mgrid()\n\u001b[1;32m---> 37\u001b[0m root\u001b[39m.\u001b[39;49mmainloop()\n",
      "File \u001b[1;32m~\\AppData\\Local\\Packages\\PythonSoftwareFoundation.Python.3.9_qbz5n2kfra8p0\\LocalCache\\local-packages\\Python39\\site-packages\\customtkinter\\windows\\ctk_tk.py:163\u001b[0m, in \u001b[0;36mCTk.mainloop\u001b[1;34m(self, *args, **kwargs)\u001b[0m\n\u001b[0;32m    159\u001b[0m             \u001b[39mself\u001b[39m\u001b[39m.\u001b[39mdeiconify()\n\u001b[0;32m    161\u001b[0m     \u001b[39mself\u001b[39m\u001b[39m.\u001b[39m_window_exists \u001b[39m=\u001b[39m \u001b[39mTrue\u001b[39;00m\n\u001b[1;32m--> 163\u001b[0m \u001b[39msuper\u001b[39m()\u001b[39m.\u001b[39mmainloop(\u001b[39m*\u001b[39margs, \u001b[39m*\u001b[39m\u001b[39m*\u001b[39mkwargs)\n",
      "File \u001b[1;32mC:\\Program Files\\WindowsApps\\PythonSoftwareFoundation.Python.3.9_3.9.3568.0_x64__qbz5n2kfra8p0\\lib\\tkinter\\__init__.py:1429\u001b[0m, in \u001b[0;36mMisc.mainloop\u001b[1;34m(self, n)\u001b[0m\n\u001b[0;32m   1427\u001b[0m \u001b[39mdef\u001b[39;00m \u001b[39mmainloop\u001b[39m(\u001b[39mself\u001b[39m, n\u001b[39m=\u001b[39m\u001b[39m0\u001b[39m):\n\u001b[0;32m   1428\u001b[0m \u001b[39m    \u001b[39m\u001b[39m\"\"\"Call the mainloop of Tk.\"\"\"\u001b[39;00m\n\u001b[1;32m-> 1429\u001b[0m     \u001b[39mself\u001b[39;49m\u001b[39m.\u001b[39;49mtk\u001b[39m.\u001b[39;49mmainloop(n)\n",
      "\u001b[1;31mKeyboardInterrupt\u001b[0m: "
     ]
    }
   ],
   "source": [
    "import tkinter as tk\n",
    "import customtkinter as ctk\n",
    "\n",
    "root = ctk.CTk()\n",
    "choices = ('network one', 'network two', 'network three')\n",
    "var = tk.StringVar(root)\n",
    "objValues = ['None']\n",
    "def refreshObjMenu(root):\n",
    "    jsonPath = r'H:\\Adam\\School\\Coding\\Chroma.AI\\output\\obj.json'\n",
    "    with open(jsonPath, 'r') as j:\n",
    "        data = json.load(j)\n",
    "\n",
    "    objPaths = {}\n",
    "    objList = []\n",
    "    for key, value in data.items():\n",
    "        var = tk.StringVar(root)\n",
    "        objId = key\n",
    "        objData = value\n",
    "        objName = objData[0]\n",
    "        objPercentage = objData[1]\n",
    "        objPath = objData[2]\n",
    "        obj = f'{objId} | {objName}'\n",
    "        objPaths[objId] = objPath\n",
    "        \n",
    "        root.objComboBox._values.append(obj)\n",
    "        root.objComboBox.update_idletasks()\n",
    "    \n",
    "    print(obj)\n",
    "    print(objPaths)\n",
    "        \n",
    "ctk.CTkComboBox(root, values=objValues).grid()\n",
    "\n",
    "\n",
    "# I made this quick refresh button to demonstrate\n",
    "ctk.CTkButton(root, text='Refresh', command=refresh).grid()\n",
    "\n",
    "root.mainloop()"
   ]
  },
  {
   "cell_type": "code",
   "execution_count": 98,
   "metadata": {},
   "outputs": [
    {
     "data": {
      "text/plain": [
       "0"
      ]
     },
     "execution_count": 98,
     "metadata": {},
     "output_type": "execute_result"
    }
   ],
   "source": [
    "import os\n",
    "os.system(\"start \\\"\\\" https://example.com\")"
   ]
  },
  {
   "cell_type": "code",
   "execution_count": 1,
   "metadata": {},
   "outputs": [
    {
     "ename": "NameError",
     "evalue": "name 'self' is not defined",
     "output_type": "error",
     "traceback": [
      "\u001b[1;31m---------------------------------------------------------------------------\u001b[0m",
      "\u001b[1;31mNameError\u001b[0m                                 Traceback (most recent call last)",
      "Cell \u001b[1;32mIn[1], line 1\u001b[0m\n\u001b[1;32m----> 1\u001b[0m objPath \u001b[39m=\u001b[39m \u001b[39mself\u001b[39;49m\u001b[39m.\u001b[39mobjPaths[\u001b[39mself\u001b[39m\u001b[39m.\u001b[39mobjVar\u001b[39m.\u001b[39mget()]\n\u001b[0;32m      2\u001b[0m _windowName \u001b[39m=\u001b[39m \u001b[39mf\u001b[39m\u001b[39m\"\u001b[39m\u001b[39m{\u001b[39;00mappName\u001b[39m}\u001b[39;00m\u001b[39m - Image Preview\u001b[39m\u001b[39m\"\u001b[39m\n\u001b[0;32m      4\u001b[0m \u001b[39mif\u001b[39;00m objPath \u001b[39mis\u001b[39;00m \u001b[39mnot\u001b[39;00m \u001b[39mNone\u001b[39;00m:\n\u001b[0;32m      5\u001b[0m     \u001b[39m# Color Recognition\u001b[39;00m\n",
      "\u001b[1;31mNameError\u001b[0m: name 'self' is not defined"
     ]
    }
   ],
   "source": [
    "\n",
    "\n",
    "\n",
    "\n",
    "\n",
    "objPath = self.objPaths[self.objVar.get()]\n",
    "_windowName = f\"{appName} - Image Preview\n",
    "if objPath is not None:\n",
    "    # Color Recognition\n",
    "    def _recognizeColor(R,G,B):\n",
    "        print('color recognized')\n",
    "        _minimum = 10000\n",
    "        for _colorSet in range(len(dataSet)):\n",
    "            _d = abs(R - int(dataSet.loc[_colorSet,\"Red\"])) \n",
    "            + abs(G - int(dataSet.loc[_colorSet,\"Green\"])) \n",
    "            + abs(B - int(dataSet.loc[_colorSet,\"Blue\"])\n",
    "            if(_d<=_minimum):\n",
    "                _minimum = _d\n",
    "                _cname = dataSet.loc[_colorSet,\"Name\"]\n",
    "        return _cnam\n",
    "    def _clickEvent(event, x, y, flags, param):\n",
    "        if event == cv2.EVENT_LBUTTONDOWN:\n",
    "            _imgColor = _img[y, x]  # Get the color of the clicked pixel\n",
    "            _imgColor = _imgColor.tolist()  # Convert color to a Python list\n",
    "            _imgColor = [int(c) for c in _imgColor]  # Convert color values to integer\n",
    "            _r, _g, _b = _imgColor[0], _imgColor[1], _imgColor[2\n",
    "            # Display a rectangle at the top of the window with the clicked color\n",
    "            cv2.rectangle(_img, (0, 0), (_imgWidth, 28), _imgColor, -1\n",
    "            if _r + _g + _b >= 300:\n",
    "                _textColor = (0, 0, 0)\n",
    "            else:\n",
    "                _textColor = (255, 255, 255\n",
    "            cv2.putText(_img, f\"{_recognizeColor(_r, _g, _b)} | {_r} , {_g} , {_b}\", (10, 20), \n",
    "                        cv2.FONT_HERSHEY_SIMPLEX, 0.7, _textColor, 1\n",
    "            cv2.imshow(_windowName, _img\n",
    "    # Load the image\n",
    "    _img = cv2.imread(objPath)\n",
    "    _imgHeight, _imgWidth, _imgChannels = _img.shape\n",
    "    # Create a window and bind the mouse callback function\n",
    "    cv2.namedWindow(_windowName)\n",
    "    cv2.setMouseCallback(_windowName, _clickEvent)\n",
    "    # Show the original image\n",
    "    cv2.imshow(_windowName, _img)\n",
    "    # Wait for a key press to exit\n",
    "    cv2.waitKey(0)\n",
    "    cv2.destroyAllWindows()"
   ]
  },
  {
   "attachments": {},
   "cell_type": "markdown",
   "metadata": {},
   "source": [
    "children > 'menu'"
   ]
  }
 ],
 "metadata": {
  "kernelspec": {
   "display_name": "Python 3",
   "language": "python",
   "name": "python3"
  },
  "language_info": {
   "codemirror_mode": {
    "name": "ipython",
    "version": 3
   },
   "file_extension": ".py",
   "mimetype": "text/x-python",
   "name": "python",
   "nbconvert_exporter": "python",
   "pygments_lexer": "ipython3",
   "version": "3.9.13"
  },
  "orig_nbformat": 4
 },
 "nbformat": 4,
 "nbformat_minor": 2
}
